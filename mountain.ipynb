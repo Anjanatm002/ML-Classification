{
 "cells": [
  {
   "cell_type": "code",
   "execution_count": 50,
   "metadata": {},
   "outputs": [],
   "source": [
    "import numpy as np \n",
    "import pandas as pd"
   ]
  },
  {
   "cell_type": "code",
   "execution_count": 51,
   "metadata": {},
   "outputs": [
    {
     "data": {
      "text/html": [
       "<div>\n",
       "<style scoped>\n",
       "    .dataframe tbody tr th:only-of-type {\n",
       "        vertical-align: middle;\n",
       "    }\n",
       "\n",
       "    .dataframe tbody tr th {\n",
       "        vertical-align: top;\n",
       "    }\n",
       "\n",
       "    .dataframe thead th {\n",
       "        text-align: right;\n",
       "    }\n",
       "</style>\n",
       "<table border=\"1\" class=\"dataframe\">\n",
       "  <thead>\n",
       "    <tr style=\"text-align: right;\">\n",
       "      <th></th>\n",
       "      <th>Age</th>\n",
       "      <th>Gender</th>\n",
       "      <th>Income</th>\n",
       "      <th>Education_Level</th>\n",
       "      <th>Travel_Frequency</th>\n",
       "      <th>Preferred_Activities</th>\n",
       "      <th>Vacation_Budget</th>\n",
       "      <th>Location</th>\n",
       "      <th>Proximity_to_Mountains</th>\n",
       "      <th>Proximity_to_Beaches</th>\n",
       "      <th>Favorite_Season</th>\n",
       "      <th>Pets</th>\n",
       "      <th>Environmental_Concerns</th>\n",
       "      <th>Preference</th>\n",
       "    </tr>\n",
       "  </thead>\n",
       "  <tbody>\n",
       "    <tr>\n",
       "      <th>0</th>\n",
       "      <td>56</td>\n",
       "      <td>male</td>\n",
       "      <td>71477</td>\n",
       "      <td>bachelor</td>\n",
       "      <td>9</td>\n",
       "      <td>skiing</td>\n",
       "      <td>2477</td>\n",
       "      <td>urban</td>\n",
       "      <td>175</td>\n",
       "      <td>267</td>\n",
       "      <td>summer</td>\n",
       "      <td>0</td>\n",
       "      <td>1</td>\n",
       "      <td>1</td>\n",
       "    </tr>\n",
       "    <tr>\n",
       "      <th>1</th>\n",
       "      <td>69</td>\n",
       "      <td>male</td>\n",
       "      <td>88740</td>\n",
       "      <td>master</td>\n",
       "      <td>1</td>\n",
       "      <td>swimming</td>\n",
       "      <td>4777</td>\n",
       "      <td>suburban</td>\n",
       "      <td>228</td>\n",
       "      <td>190</td>\n",
       "      <td>fall</td>\n",
       "      <td>0</td>\n",
       "      <td>1</td>\n",
       "      <td>0</td>\n",
       "    </tr>\n",
       "    <tr>\n",
       "      <th>2</th>\n",
       "      <td>46</td>\n",
       "      <td>female</td>\n",
       "      <td>46562</td>\n",
       "      <td>master</td>\n",
       "      <td>0</td>\n",
       "      <td>skiing</td>\n",
       "      <td>1469</td>\n",
       "      <td>urban</td>\n",
       "      <td>71</td>\n",
       "      <td>280</td>\n",
       "      <td>winter</td>\n",
       "      <td>0</td>\n",
       "      <td>0</td>\n",
       "      <td>1</td>\n",
       "    </tr>\n",
       "    <tr>\n",
       "      <th>3</th>\n",
       "      <td>32</td>\n",
       "      <td>non-binary</td>\n",
       "      <td>99044</td>\n",
       "      <td>high school</td>\n",
       "      <td>6</td>\n",
       "      <td>hiking</td>\n",
       "      <td>1482</td>\n",
       "      <td>rural</td>\n",
       "      <td>31</td>\n",
       "      <td>255</td>\n",
       "      <td>summer</td>\n",
       "      <td>1</td>\n",
       "      <td>0</td>\n",
       "      <td>1</td>\n",
       "    </tr>\n",
       "    <tr>\n",
       "      <th>4</th>\n",
       "      <td>60</td>\n",
       "      <td>female</td>\n",
       "      <td>106583</td>\n",
       "      <td>high school</td>\n",
       "      <td>5</td>\n",
       "      <td>sunbathing</td>\n",
       "      <td>516</td>\n",
       "      <td>suburban</td>\n",
       "      <td>23</td>\n",
       "      <td>151</td>\n",
       "      <td>winter</td>\n",
       "      <td>1</td>\n",
       "      <td>1</td>\n",
       "      <td>0</td>\n",
       "    </tr>\n",
       "    <tr>\n",
       "      <th>...</th>\n",
       "      <td>...</td>\n",
       "      <td>...</td>\n",
       "      <td>...</td>\n",
       "      <td>...</td>\n",
       "      <td>...</td>\n",
       "      <td>...</td>\n",
       "      <td>...</td>\n",
       "      <td>...</td>\n",
       "      <td>...</td>\n",
       "      <td>...</td>\n",
       "      <td>...</td>\n",
       "      <td>...</td>\n",
       "      <td>...</td>\n",
       "      <td>...</td>\n",
       "    </tr>\n",
       "    <tr>\n",
       "      <th>52439</th>\n",
       "      <td>67</td>\n",
       "      <td>female</td>\n",
       "      <td>85325</td>\n",
       "      <td>master</td>\n",
       "      <td>3</td>\n",
       "      <td>hiking</td>\n",
       "      <td>1762</td>\n",
       "      <td>suburban</td>\n",
       "      <td>51</td>\n",
       "      <td>262</td>\n",
       "      <td>fall</td>\n",
       "      <td>1</td>\n",
       "      <td>0</td>\n",
       "      <td>1</td>\n",
       "    </tr>\n",
       "    <tr>\n",
       "      <th>52440</th>\n",
       "      <td>37</td>\n",
       "      <td>female</td>\n",
       "      <td>110346</td>\n",
       "      <td>bachelor</td>\n",
       "      <td>7</td>\n",
       "      <td>swimming</td>\n",
       "      <td>1676</td>\n",
       "      <td>urban</td>\n",
       "      <td>259</td>\n",
       "      <td>84</td>\n",
       "      <td>spring</td>\n",
       "      <td>1</td>\n",
       "      <td>0</td>\n",
       "      <td>0</td>\n",
       "    </tr>\n",
       "    <tr>\n",
       "      <th>52441</th>\n",
       "      <td>53</td>\n",
       "      <td>non-binary</td>\n",
       "      <td>71080</td>\n",
       "      <td>doctorate</td>\n",
       "      <td>7</td>\n",
       "      <td>swimming</td>\n",
       "      <td>3877</td>\n",
       "      <td>urban</td>\n",
       "      <td>164</td>\n",
       "      <td>27</td>\n",
       "      <td>fall</td>\n",
       "      <td>0</td>\n",
       "      <td>1</td>\n",
       "      <td>0</td>\n",
       "    </tr>\n",
       "    <tr>\n",
       "      <th>52442</th>\n",
       "      <td>40</td>\n",
       "      <td>female</td>\n",
       "      <td>75174</td>\n",
       "      <td>doctorate</td>\n",
       "      <td>9</td>\n",
       "      <td>swimming</td>\n",
       "      <td>4620</td>\n",
       "      <td>suburban</td>\n",
       "      <td>173</td>\n",
       "      <td>10</td>\n",
       "      <td>summer</td>\n",
       "      <td>0</td>\n",
       "      <td>1</td>\n",
       "      <td>0</td>\n",
       "    </tr>\n",
       "    <tr>\n",
       "      <th>52443</th>\n",
       "      <td>33</td>\n",
       "      <td>non-binary</td>\n",
       "      <td>34475</td>\n",
       "      <td>master</td>\n",
       "      <td>6</td>\n",
       "      <td>hiking</td>\n",
       "      <td>928</td>\n",
       "      <td>suburban</td>\n",
       "      <td>218</td>\n",
       "      <td>166</td>\n",
       "      <td>spring</td>\n",
       "      <td>1</td>\n",
       "      <td>0</td>\n",
       "      <td>0</td>\n",
       "    </tr>\n",
       "  </tbody>\n",
       "</table>\n",
       "<p>52444 rows × 14 columns</p>\n",
       "</div>"
      ],
      "text/plain": [
       "       Age      Gender  Income Education_Level  Travel_Frequency  \\\n",
       "0       56        male   71477        bachelor                 9   \n",
       "1       69        male   88740          master                 1   \n",
       "2       46      female   46562          master                 0   \n",
       "3       32  non-binary   99044     high school                 6   \n",
       "4       60      female  106583     high school                 5   \n",
       "...    ...         ...     ...             ...               ...   \n",
       "52439   67      female   85325          master                 3   \n",
       "52440   37      female  110346        bachelor                 7   \n",
       "52441   53  non-binary   71080       doctorate                 7   \n",
       "52442   40      female   75174       doctorate                 9   \n",
       "52443   33  non-binary   34475          master                 6   \n",
       "\n",
       "      Preferred_Activities  Vacation_Budget  Location  Proximity_to_Mountains  \\\n",
       "0                   skiing             2477     urban                     175   \n",
       "1                 swimming             4777  suburban                     228   \n",
       "2                   skiing             1469     urban                      71   \n",
       "3                   hiking             1482     rural                      31   \n",
       "4               sunbathing              516  suburban                      23   \n",
       "...                    ...              ...       ...                     ...   \n",
       "52439               hiking             1762  suburban                      51   \n",
       "52440             swimming             1676     urban                     259   \n",
       "52441             swimming             3877     urban                     164   \n",
       "52442             swimming             4620  suburban                     173   \n",
       "52443               hiking              928  suburban                     218   \n",
       "\n",
       "       Proximity_to_Beaches Favorite_Season  Pets  Environmental_Concerns  \\\n",
       "0                       267          summer     0                       1   \n",
       "1                       190            fall     0                       1   \n",
       "2                       280          winter     0                       0   \n",
       "3                       255          summer     1                       0   \n",
       "4                       151          winter     1                       1   \n",
       "...                     ...             ...   ...                     ...   \n",
       "52439                   262            fall     1                       0   \n",
       "52440                    84          spring     1                       0   \n",
       "52441                    27            fall     0                       1   \n",
       "52442                    10          summer     0                       1   \n",
       "52443                   166          spring     1                       0   \n",
       "\n",
       "       Preference  \n",
       "0               1  \n",
       "1               0  \n",
       "2               1  \n",
       "3               1  \n",
       "4               0  \n",
       "...           ...  \n",
       "52439           1  \n",
       "52440           0  \n",
       "52441           0  \n",
       "52442           0  \n",
       "52443           0  \n",
       "\n",
       "[52444 rows x 14 columns]"
      ]
     },
     "execution_count": 51,
     "metadata": {},
     "output_type": "execute_result"
    }
   ],
   "source": [
    "df=pd.read_csv(\"mountains_vs_beaches_preferences.csv\")\n",
    "df"
   ]
  },
  {
   "cell_type": "code",
   "execution_count": 52,
   "metadata": {},
   "outputs": [
    {
     "data": {
      "text/plain": [
       "Age                       0\n",
       "Gender                    0\n",
       "Income                    0\n",
       "Education_Level           0\n",
       "Travel_Frequency          0\n",
       "Preferred_Activities      0\n",
       "Vacation_Budget           0\n",
       "Location                  0\n",
       "Proximity_to_Mountains    0\n",
       "Proximity_to_Beaches      0\n",
       "Favorite_Season           0\n",
       "Pets                      0\n",
       "Environmental_Concerns    0\n",
       "Preference                0\n",
       "dtype: int64"
      ]
     },
     "execution_count": 52,
     "metadata": {},
     "output_type": "execute_result"
    }
   ],
   "source": [
    "df.isna().sum()"
   ]
  },
  {
   "cell_type": "code",
   "execution_count": 53,
   "metadata": {},
   "outputs": [
    {
     "data": {
      "text/plain": [
       "Age                        int64\n",
       "Gender                    object\n",
       "Income                     int64\n",
       "Education_Level           object\n",
       "Travel_Frequency           int64\n",
       "Preferred_Activities      object\n",
       "Vacation_Budget            int64\n",
       "Location                  object\n",
       "Proximity_to_Mountains     int64\n",
       "Proximity_to_Beaches       int64\n",
       "Favorite_Season           object\n",
       "Pets                       int64\n",
       "Environmental_Concerns     int64\n",
       "Preference                 int64\n",
       "dtype: object"
      ]
     },
     "execution_count": 53,
     "metadata": {},
     "output_type": "execute_result"
    }
   ],
   "source": [
    "df.dtypes"
   ]
  },
  {
   "cell_type": "code",
   "execution_count": 54,
   "metadata": {},
   "outputs": [
    {
     "data": {
      "text/plain": [
       "Gender\n",
       "female        17638\n",
       "male          17522\n",
       "non-binary    17284\n",
       "Name: count, dtype: int64"
      ]
     },
     "execution_count": 54,
     "metadata": {},
     "output_type": "execute_result"
    }
   ],
   "source": [
    "df[\"Gender\"].value_counts()"
   ]
  },
  {
   "cell_type": "code",
   "execution_count": 55,
   "metadata": {},
   "outputs": [
    {
     "data": {
      "text/plain": [
       "Education_Level\n",
       "doctorate      13293\n",
       "bachelor       13127\n",
       "high school    13072\n",
       "master         12952\n",
       "Name: count, dtype: int64"
      ]
     },
     "execution_count": 55,
     "metadata": {},
     "output_type": "execute_result"
    }
   ],
   "source": [
    "df[\"Education_Level\"].value_counts()"
   ]
  },
  {
   "cell_type": "code",
   "execution_count": 56,
   "metadata": {},
   "outputs": [
    {
     "data": {
      "text/plain": [
       "Preferred_Activities\n",
       "sunbathing    13221\n",
       "skiing        13167\n",
       "hiking        13102\n",
       "swimming      12954\n",
       "Name: count, dtype: int64"
      ]
     },
     "execution_count": 56,
     "metadata": {},
     "output_type": "execute_result"
    }
   ],
   "source": [
    "df[\"Preferred_Activities\"].value_counts()"
   ]
  },
  {
   "cell_type": "code",
   "execution_count": 57,
   "metadata": {},
   "outputs": [
    {
     "data": {
      "text/plain": [
       "Location\n",
       "suburban    17503\n",
       "urban       17476\n",
       "rural       17465\n",
       "Name: count, dtype: int64"
      ]
     },
     "execution_count": 57,
     "metadata": {},
     "output_type": "execute_result"
    }
   ],
   "source": [
    "df[\"Location\"].value_counts()"
   ]
  },
  {
   "cell_type": "code",
   "execution_count": 58,
   "metadata": {},
   "outputs": [
    {
     "data": {
      "text/plain": [
       "Favorite_Season\n",
       "summer    13303\n",
       "fall      13170\n",
       "winter    13019\n",
       "spring    12952\n",
       "Name: count, dtype: int64"
      ]
     },
     "execution_count": 58,
     "metadata": {},
     "output_type": "execute_result"
    }
   ],
   "source": [
    "df[\"Favorite_Season\"].value_counts()"
   ]
  },
  {
   "cell_type": "code",
   "execution_count": 59,
   "metadata": {},
   "outputs": [
    {
     "data": {
      "text/plain": [
       "Preference\n",
       "0    39296\n",
       "1    13148\n",
       "Name: count, dtype: int64"
      ]
     },
     "execution_count": 59,
     "metadata": {},
     "output_type": "execute_result"
    }
   ],
   "source": [
    "df[\"Preference\"].value_counts() #class imbalance, oversample minority class 1 or undersample majority class 0 "
   ]
  },
  {
   "cell_type": "code",
   "execution_count": 62,
   "metadata": {},
   "outputs": [
    {
     "data": {
      "text/plain": [
       "Preference\n",
       "0    39296\n",
       "1    13148\n",
       "Name: count, dtype: int64"
      ]
     },
     "execution_count": 62,
     "metadata": {},
     "output_type": "execute_result"
    }
   ],
   "source": [
    "df[\"Preference\"].value_counts()"
   ]
  },
  {
   "cell_type": "code",
   "execution_count": 63,
   "metadata": {},
   "outputs": [],
   "source": [
    "from sklearn.preprocessing import LabelEncoder\n",
    "lab=LabelEncoder()\n",
    "df[\"Gender\"]=lab.fit_transform(df[\"Gender\"])\n",
    "df[\"Education_Level\"]=lab.fit_transform(df[\"Education_Level\"])\n",
    "df[\"Location\"]=lab.fit_transform(df[\"Location\"])\n",
    "df[\"Favorite_Season\"]=lab.fit_transform(df[\"Favorite_Season\"])\n",
    "df[\"Preferred_Activities\"]=lab.fit_transform(df[\"Preferred_Activities\"])"
   ]
  },
  {
   "cell_type": "code",
   "execution_count": 64,
   "metadata": {},
   "outputs": [
    {
     "data": {
      "text/plain": [
       "Age                       int64\n",
       "Gender                    int64\n",
       "Income                    int64\n",
       "Education_Level           int64\n",
       "Travel_Frequency          int64\n",
       "Preferred_Activities      int64\n",
       "Vacation_Budget           int64\n",
       "Location                  int64\n",
       "Proximity_to_Mountains    int64\n",
       "Proximity_to_Beaches      int64\n",
       "Favorite_Season           int64\n",
       "Pets                      int64\n",
       "Environmental_Concerns    int64\n",
       "Preference                int64\n",
       "dtype: object"
      ]
     },
     "execution_count": 64,
     "metadata": {},
     "output_type": "execute_result"
    }
   ],
   "source": [
    "df.dtypes"
   ]
  },
  {
   "cell_type": "code",
   "execution_count": 65,
   "metadata": {},
   "outputs": [
    {
     "data": {
      "text/plain": [
       "array([[   56,     1, 71477, ...,     2,     0,     1],\n",
       "       [   69,     1, 88740, ...,     0,     0,     1],\n",
       "       [   46,     0, 46562, ...,     3,     0,     0],\n",
       "       ...,\n",
       "       [   53,     2, 71080, ...,     0,     0,     1],\n",
       "       [   40,     0, 75174, ...,     2,     0,     1],\n",
       "       [   33,     2, 34475, ...,     1,     1,     0]])"
      ]
     },
     "execution_count": 65,
     "metadata": {},
     "output_type": "execute_result"
    }
   ],
   "source": [
    "x=df.iloc[:,:-1].values\n",
    "x"
   ]
  },
  {
   "cell_type": "code",
   "execution_count": 66,
   "metadata": {},
   "outputs": [
    {
     "data": {
      "text/plain": [
       "array([1, 0, 1, ..., 0, 0, 0])"
      ]
     },
     "execution_count": 66,
     "metadata": {},
     "output_type": "execute_result"
    }
   ],
   "source": [
    "y=df.iloc[:,-1].values\n",
    "y"
   ]
  },
  {
   "cell_type": "code",
   "execution_count": 67,
   "metadata": {},
   "outputs": [],
   "source": [
    "from sklearn.model_selection import train_test_split\n",
    "x_train,xtest,y_train,ytest=train_test_split(x,y,test_size=0.30,random_state=1)"
   ]
  },
  {
   "cell_type": "code",
   "execution_count": 68,
   "metadata": {},
   "outputs": [],
   "source": [
    "from sklearn.preprocessing import StandardScaler\n",
    "scaler=StandardScaler()\n",
    "scaler.fit(x_train)\n",
    "x_train=scaler.transform(x_train)\n",
    "xtest=scaler.transform(xtest)"
   ]
  },
  {
   "cell_type": "code",
   "execution_count": 69,
   "metadata": {},
   "outputs": [],
   "source": [
    "from sklearn.neighbors import KNeighborsClassifier\n",
    "from sklearn.naive_bayes import BernoulliNB\n",
    "from sklearn.svm import SVC\n",
    "knn=KNeighborsClassifier(n_neighbors=7)\n",
    "nvb=BernoulliNB()\n",
    "sm=SVC()\n",
    "lst=[knn,nvb,sm]"
   ]
  },
  {
   "cell_type": "code",
   "execution_count": 70,
   "metadata": {},
   "outputs": [
    {
     "name": "stdout",
     "output_type": "stream",
     "text": [
      "Model is  KNeighborsClassifier(n_neighbors=7)\n",
      "Accuracy: 0.9294521418583959\n",
      "Classification report:               precision    recall  f1-score   support\n",
      "\n",
      "           0       0.94      0.97      0.95     11848\n",
      "           1       0.89      0.81      0.85      3886\n",
      "\n",
      "    accuracy                           0.93     15734\n",
      "   macro avg       0.92      0.89      0.90     15734\n",
      "weighted avg       0.93      0.93      0.93     15734\n",
      "\n",
      "Confusion matrix and plot\n",
      "[[11457   391]\n",
      " [  719  3167]]\n"
     ]
    },
    {
     "data": {
      "image/png": "[encoded data removed]",
      "text/plain": [
       "<Figure size 640x480 with 2 Axes>"
      ]
     },
     "metadata": {},
     "output_type": "display_data"
    },
    {
     "name": "stdout",
     "output_type": "stream",
     "text": [
      "Model is  BernoulliNB()\n",
      "Accuracy: 0.8780348290326682\n",
      "Classification report:               precision    recall  f1-score   support\n",
      "\n",
      "           0       0.86      1.00      0.93     11848\n",
      "           1       1.00      0.51      0.67      3886\n",
      "\n",
      "    accuracy                           0.88     15734\n",
      "   macro avg       0.93      0.75      0.80     15734\n",
      "weighted avg       0.90      0.88      0.86     15734\n",
      "\n",
      "Confusion matrix and plot\n",
      "[[11848     0]\n",
      " [ 1919  1967]]\n"
     ]
    },
    {
     "data": {
      "image/png": "[encoded data removed]",
      "text/plain": [
       "<Figure size 640x480 with 2 Axes>"
      ]
     },
     "metadata": {},
     "output_type": "display_data"
    },
    {
     "name": "stdout",
     "output_type": "stream",
     "text": [
      "Model is  SVC()\n",
      "Accuracy: 0.986017541629592\n",
      "Classification report:               precision    recall  f1-score   support\n",
      "\n",
      "           0       0.99      0.99      0.99     11848\n",
      "           1       0.98      0.97      0.97      3886\n",
      "\n",
      "    accuracy                           0.99     15734\n",
      "   macro avg       0.98      0.98      0.98     15734\n",
      "weighted avg       0.99      0.99      0.99     15734\n",
      "\n",
      "Confusion matrix and plot\n",
      "[[11755    93]\n",
      " [  127  3759]]\n"
     ]
    },
    {
     "data": {
      "image/png": "[encoded data removed]",
      "text/plain": [
       "<Figure size 640x480 with 2 Axes>"
      ]
     },
     "metadata": {},
     "output_type": "display_data"
    }
   ],
   "source": [
    "from sklearn.metrics import confusion_matrix,ConfusionMatrixDisplay,accuracy_score,classification_report\n",
    "import matplotlib.pyplot as plt\n",
    "for i in lst:\n",
    "    print(\"Model is \",i)\n",
    "    i.fit(x_train,y_train)\n",
    "    y_pred=i.predict(xtest)\n",
    "    print(\"Accuracy:\",accuracy_score(ytest,y_pred))\n",
    "    print(\"Classification report:\",classification_report(ytest,y_pred))\n",
    "    print(\"Confusion matrix and plot\")\n",
    "    cm=confusion_matrix(ytest,y_pred)\n",
    "    print(cm)\n",
    "    cmd=ConfusionMatrixDisplay(cm)\n",
    "    cmd.plot()\n",
    "    plt.show()\n"
   ]
  },
  {
   "cell_type": "code",
   "execution_count": 71,
   "metadata": {},
   "outputs": [
    {
     "data": {
      "text/html": [
       "<div>\n",
       "<style scoped>\n",
       "    .dataframe tbody tr th:only-of-type {\n",
       "        vertical-align: middle;\n",
       "    }\n",
       "\n",
       "    .dataframe tbody tr th {\n",
       "        vertical-align: top;\n",
       "    }\n",
       "\n",
       "    .dataframe thead th {\n",
       "        text-align: right;\n",
       "    }\n",
       "</style>\n",
       "<table border=\"1\" class=\"dataframe\">\n",
       "  <thead>\n",
       "    <tr style=\"text-align: right;\">\n",
       "      <th></th>\n",
       "      <th>Age</th>\n",
       "      <th>Gender</th>\n",
       "      <th>Income</th>\n",
       "      <th>Education_Level</th>\n",
       "      <th>Travel_Frequency</th>\n",
       "      <th>Preferred_Activities</th>\n",
       "      <th>Vacation_Budget</th>\n",
       "      <th>Location</th>\n",
       "      <th>Proximity_to_Mountains</th>\n",
       "      <th>Proximity_to_Beaches</th>\n",
       "      <th>Favorite_Season</th>\n",
       "      <th>Pets</th>\n",
       "      <th>Environmental_Concerns</th>\n",
       "      <th>Preference</th>\n",
       "    </tr>\n",
       "  </thead>\n",
       "  <tbody>\n",
       "    <tr>\n",
       "      <th>1</th>\n",
       "      <td>69</td>\n",
       "      <td>1</td>\n",
       "      <td>88740</td>\n",
       "      <td>3</td>\n",
       "      <td>1</td>\n",
       "      <td>3</td>\n",
       "      <td>4777</td>\n",
       "      <td>1</td>\n",
       "      <td>228</td>\n",
       "      <td>190</td>\n",
       "      <td>0</td>\n",
       "      <td>0</td>\n",
       "      <td>1</td>\n",
       "      <td>0</td>\n",
       "    </tr>\n",
       "    <tr>\n",
       "      <th>4</th>\n",
       "      <td>60</td>\n",
       "      <td>0</td>\n",
       "      <td>106583</td>\n",
       "      <td>2</td>\n",
       "      <td>5</td>\n",
       "      <td>2</td>\n",
       "      <td>516</td>\n",
       "      <td>1</td>\n",
       "      <td>23</td>\n",
       "      <td>151</td>\n",
       "      <td>3</td>\n",
       "      <td>1</td>\n",
       "      <td>1</td>\n",
       "      <td>0</td>\n",
       "    </tr>\n",
       "    <tr>\n",
       "      <th>5</th>\n",
       "      <td>25</td>\n",
       "      <td>1</td>\n",
       "      <td>110588</td>\n",
       "      <td>1</td>\n",
       "      <td>3</td>\n",
       "      <td>2</td>\n",
       "      <td>2895</td>\n",
       "      <td>2</td>\n",
       "      <td>6</td>\n",
       "      <td>47</td>\n",
       "      <td>0</td>\n",
       "      <td>0</td>\n",
       "      <td>1</td>\n",
       "      <td>0</td>\n",
       "    </tr>\n",
       "    <tr>\n",
       "      <th>6</th>\n",
       "      <td>38</td>\n",
       "      <td>1</td>\n",
       "      <td>22245</td>\n",
       "      <td>0</td>\n",
       "      <td>1</td>\n",
       "      <td>3</td>\n",
       "      <td>4994</td>\n",
       "      <td>0</td>\n",
       "      <td>157</td>\n",
       "      <td>225</td>\n",
       "      <td>0</td>\n",
       "      <td>0</td>\n",
       "      <td>1</td>\n",
       "      <td>0</td>\n",
       "    </tr>\n",
       "    <tr>\n",
       "      <th>7</th>\n",
       "      <td>56</td>\n",
       "      <td>2</td>\n",
       "      <td>109411</td>\n",
       "      <td>0</td>\n",
       "      <td>8</td>\n",
       "      <td>2</td>\n",
       "      <td>3656</td>\n",
       "      <td>2</td>\n",
       "      <td>210</td>\n",
       "      <td>166</td>\n",
       "      <td>3</td>\n",
       "      <td>1</td>\n",
       "      <td>0</td>\n",
       "      <td>0</td>\n",
       "    </tr>\n",
       "    <tr>\n",
       "      <th>...</th>\n",
       "      <td>...</td>\n",
       "      <td>...</td>\n",
       "      <td>...</td>\n",
       "      <td>...</td>\n",
       "      <td>...</td>\n",
       "      <td>...</td>\n",
       "      <td>...</td>\n",
       "      <td>...</td>\n",
       "      <td>...</td>\n",
       "      <td>...</td>\n",
       "      <td>...</td>\n",
       "      <td>...</td>\n",
       "      <td>...</td>\n",
       "      <td>...</td>\n",
       "    </tr>\n",
       "    <tr>\n",
       "      <th>12349</th>\n",
       "      <td>31</td>\n",
       "      <td>2</td>\n",
       "      <td>54699</td>\n",
       "      <td>0</td>\n",
       "      <td>6</td>\n",
       "      <td>0</td>\n",
       "      <td>2833</td>\n",
       "      <td>2</td>\n",
       "      <td>133</td>\n",
       "      <td>243</td>\n",
       "      <td>0</td>\n",
       "      <td>0</td>\n",
       "      <td>1</td>\n",
       "      <td>1</td>\n",
       "    </tr>\n",
       "    <tr>\n",
       "      <th>11416</th>\n",
       "      <td>18</td>\n",
       "      <td>2</td>\n",
       "      <td>100550</td>\n",
       "      <td>0</td>\n",
       "      <td>3</td>\n",
       "      <td>1</td>\n",
       "      <td>2477</td>\n",
       "      <td>0</td>\n",
       "      <td>208</td>\n",
       "      <td>233</td>\n",
       "      <td>2</td>\n",
       "      <td>1</td>\n",
       "      <td>1</td>\n",
       "      <td>1</td>\n",
       "    </tr>\n",
       "    <tr>\n",
       "      <th>36407</th>\n",
       "      <td>38</td>\n",
       "      <td>0</td>\n",
       "      <td>64068</td>\n",
       "      <td>1</td>\n",
       "      <td>8</td>\n",
       "      <td>1</td>\n",
       "      <td>3416</td>\n",
       "      <td>0</td>\n",
       "      <td>54</td>\n",
       "      <td>201</td>\n",
       "      <td>0</td>\n",
       "      <td>0</td>\n",
       "      <td>0</td>\n",
       "      <td>1</td>\n",
       "    </tr>\n",
       "    <tr>\n",
       "      <th>23946</th>\n",
       "      <td>30</td>\n",
       "      <td>1</td>\n",
       "      <td>23378</td>\n",
       "      <td>1</td>\n",
       "      <td>2</td>\n",
       "      <td>0</td>\n",
       "      <td>1309</td>\n",
       "      <td>1</td>\n",
       "      <td>183</td>\n",
       "      <td>201</td>\n",
       "      <td>1</td>\n",
       "      <td>1</td>\n",
       "      <td>1</td>\n",
       "      <td>1</td>\n",
       "    </tr>\n",
       "    <tr>\n",
       "      <th>46077</th>\n",
       "      <td>54</td>\n",
       "      <td>1</td>\n",
       "      <td>68608</td>\n",
       "      <td>0</td>\n",
       "      <td>0</td>\n",
       "      <td>1</td>\n",
       "      <td>2170</td>\n",
       "      <td>1</td>\n",
       "      <td>8</td>\n",
       "      <td>195</td>\n",
       "      <td>1</td>\n",
       "      <td>1</td>\n",
       "      <td>0</td>\n",
       "      <td>1</td>\n",
       "    </tr>\n",
       "  </tbody>\n",
       "</table>\n",
       "<p>78592 rows × 14 columns</p>\n",
       "</div>"
      ],
      "text/plain": [
       "       Age  Gender  Income  Education_Level  Travel_Frequency  \\\n",
       "1       69       1   88740                3                 1   \n",
       "4       60       0  106583                2                 5   \n",
       "5       25       1  110588                1                 3   \n",
       "6       38       1   22245                0                 1   \n",
       "7       56       2  109411                0                 8   \n",
       "...    ...     ...     ...              ...               ...   \n",
       "12349   31       2   54699                0                 6   \n",
       "11416   18       2  100550                0                 3   \n",
       "36407   38       0   64068                1                 8   \n",
       "23946   30       1   23378                1                 2   \n",
       "46077   54       1   68608                0                 0   \n",
       "\n",
       "       Preferred_Activities  Vacation_Budget  Location  \\\n",
       "1                         3             4777         1   \n",
       "4                         2              516         1   \n",
       "5                         2             2895         2   \n",
       "6                         3             4994         0   \n",
       "7                         2             3656         2   \n",
       "...                     ...              ...       ...   \n",
       "12349                     0             2833         2   \n",
       "11416                     1             2477         0   \n",
       "36407                     1             3416         0   \n",
       "23946                     0             1309         1   \n",
       "46077                     1             2170         1   \n",
       "\n",
       "       Proximity_to_Mountains  Proximity_to_Beaches  Favorite_Season  Pets  \\\n",
       "1                         228                   190                0     0   \n",
       "4                          23                   151                3     1   \n",
       "5                           6                    47                0     0   \n",
       "6                         157                   225                0     0   \n",
       "7                         210                   166                3     1   \n",
       "...                       ...                   ...              ...   ...   \n",
       "12349                     133                   243                0     0   \n",
       "11416                     208                   233                2     1   \n",
       "36407                      54                   201                0     0   \n",
       "23946                     183                   201                1     1   \n",
       "46077                       8                   195                1     1   \n",
       "\n",
       "       Environmental_Concerns  Preference  \n",
       "1                           1           0  \n",
       "4                           1           0  \n",
       "5                           1           0  \n",
       "6                           1           0  \n",
       "7                           0           0  \n",
       "...                       ...         ...  \n",
       "12349                       1           1  \n",
       "11416                       1           1  \n",
       "36407                       0           1  \n",
       "23946                       1           1  \n",
       "46077                       0           1  \n",
       "\n",
       "[78592 rows x 14 columns]"
      ]
     },
     "execution_count": 71,
     "metadata": {},
     "output_type": "execute_result"
    }
   ],
   "source": [
    "from sklearn.utils import resample\n",
    "\n",
    "# Assuming 'df' is your DataFrame and 'target' is the target variable\n",
    "df_minority = df[df['Preference'] == 1]\n",
    "df_majority = df[df['Preference'] == 0]\n",
    "\n",
    "# Oversample the minority class\n",
    "df_minority_oversampled = resample(df_minority, replace=True, n_samples=len(df_majority))\n",
    "\n",
    "# Combine the oversampled minority class with the majority class\n",
    "df_balanced = pd.concat([df_majority, df_minority_oversampled])\n",
    "df_balanced"
   ]
  },
  {
   "cell_type": "code",
   "execution_count": 72,
   "metadata": {},
   "outputs": [
    {
     "name": "stdout",
     "output_type": "stream",
     "text": [
      "*********************************************************************\n",
      "\n",
      "Model:  KNeighborsClassifier(n_neighbors=7)\n",
      "\n",
      "Accuracy:  0.9181440325727372\n",
      "\n",
      "confusion matrix :  [[10106  1703]\n",
      " [  227 11542]]\n",
      "\n",
      "Classification Report :                precision    recall  f1-score   support\n",
      "\n",
      "           0       0.98      0.86      0.91     11809\n",
      "           1       0.87      0.98      0.92     11769\n",
      "\n",
      "    accuracy                           0.92     23578\n",
      "   macro avg       0.92      0.92      0.92     23578\n",
      "weighted avg       0.92      0.92      0.92     23578\n",
      "\n",
      "\n",
      "Confusion Matrix Display :\n"
     ]
    },
    {
     "data": {
      "image/png": "[encoded data removed]",
      "text/plain": [
       "<Figure size 640x480 with 2 Axes>"
      ]
     },
     "metadata": {},
     "output_type": "display_data"
    },
    {
     "name": "stdout",
     "output_type": "stream",
     "text": [
      "\n",
      "*********************************************************************\n",
      "\n",
      "Model:  SVC()\n",
      "\n",
      "Accuracy:  0.9877003986767325\n",
      "\n",
      "confusion matrix :  [[11525   284]\n",
      " [    6 11763]]\n",
      "\n",
      "Classification Report :                precision    recall  f1-score   support\n",
      "\n",
      "           0       1.00      0.98      0.99     11809\n",
      "           1       0.98      1.00      0.99     11769\n",
      "\n",
      "    accuracy                           0.99     23578\n",
      "   macro avg       0.99      0.99      0.99     23578\n",
      "weighted avg       0.99      0.99      0.99     23578\n",
      "\n",
      "\n",
      "Confusion Matrix Display :\n"
     ]
    },
    {
     "data": {
      "image/png": "[encoded data removed]",
      "text/plain": [
       "<Figure size 640x480 with 2 Axes>"
      ]
     },
     "metadata": {},
     "output_type": "display_data"
    },
    {
     "name": "stdout",
     "output_type": "stream",
     "text": [
      "\n",
      "*********************************************************************\n",
      "\n",
      "Model:  BernoulliNB()\n",
      "\n",
      "Accuracy:  0.9273899397743659\n",
      "\n",
      "confusion matrix :  [[10268  1541]\n",
      " [  171 11598]]\n",
      "\n",
      "Classification Report :                precision    recall  f1-score   support\n",
      "\n",
      "           0       0.98      0.87      0.92     11809\n",
      "           1       0.88      0.99      0.93     11769\n",
      "\n",
      "    accuracy                           0.93     23578\n",
      "   macro avg       0.93      0.93      0.93     23578\n",
      "weighted avg       0.93      0.93      0.93     23578\n",
      "\n",
      "\n",
      "Confusion Matrix Display :\n"
     ]
    },
    {
     "data": {
      "image/png": "[encoded data removed]",
      "text/plain": [
       "<Figure size 640x480 with 2 Axes>"
      ]
     },
     "metadata": {},
     "output_type": "display_data"
    },
    {
     "name": "stdout",
     "output_type": "stream",
     "text": [
      "\n"
     ]
    }
   ],
   "source": [
    "x=df_balanced.iloc[:,:-1].values\n",
    "y=df_balanced.iloc[:,-1].values\n",
    "from sklearn.model_selection import train_test_split\n",
    "x_train,x_test, y_train,y_test=train_test_split(x,y,test_size=0.30,random_state=1)\n",
    "from sklearn.preprocessing import StandardScaler\n",
    "scale=StandardScaler()\n",
    "scale.fit(x_train)\n",
    "x_train=scale.transform(x_train)\n",
    "x_test=scale.transform(x_test)\n",
    "from sklearn.neighbors import KNeighborsClassifier\n",
    "from sklearn.naive_bayes import BernoulliNB\n",
    "from sklearn.svm import SVC\n",
    "from sklearn.metrics import accuracy_score,confusion_matrix,ConfusionMatrixDisplay,classification_report\n",
    "import matplotlib.pyplot as plt\n",
    "\n",
    "knn=KNeighborsClassifier(n_neighbors=7)\n",
    "svm=SVC()\n",
    "bernol=BernoulliNB()\n",
    "\n",
    "list=[knn,svm,bernol]\n",
    "for i in list:\n",
    "    i.fit(x_train,y_train)\n",
    "    y_pred=i.predict(x_test)\n",
    "    cm=confusion_matrix(y_test,y_pred)\n",
    "    cmd=ConfusionMatrixDisplay(cm)\n",
    "    print(\"*********************************************************************\")\n",
    "    print(\"\\nModel: \",i)\n",
    "    print('\\nAccuracy: ',accuracy_score(y_test,y_pred))\n",
    "    print(\"\\nconfusion matrix : \",cm)\n",
    "    print('\\nClassification Report : ',classification_report(y_test,y_pred))\n",
    "    print('\\nConfusion Matrix Display :')\n",
    "    cmd.plot()\n",
    "    plt.show()\n",
    "    print()"
   ]
  },
  {
   "cell_type": "code",
   "execution_count": null,
   "metadata": {},
   "outputs": [],
   "source": []
  }
 ],
 "metadata": {
  "kernelspec": {
   "display_name": "Python 3",
   "language": "python",
   "name": "python3"
  },
  "language_info": {
   "codemirror_mode": {
    "name": "ipython",
    "version": 3
   },
   "file_extension": ".py",
   "mimetype": "text/x-python",
   "name": "python",
   "nbconvert_exporter": "python",
   "pygments_lexer": "ipython3",
   "version": "3.9.6"
  }
 },
 "nbformat": 4,
 "nbformat_minor": 2
}
